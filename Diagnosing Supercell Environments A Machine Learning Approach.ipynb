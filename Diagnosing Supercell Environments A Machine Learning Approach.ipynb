{
 "cells": [
  {
   "cell_type": "markdown",
   "metadata": {},
   "source": [
    "This notebook allows you to make machine learning based predictions on if supercell storm mode is favored. The predictions are based on nine input variables, and three different machine learning models are avaialable. The full details will be included in a forthcoming journal article."
   ]
  },
  {
   "cell_type": "code",
   "execution_count": 1,
   "metadata": {},
   "outputs": [],
   "source": [
    "#imports\n",
    "import pickle\n",
    "import numpy as np\n",
    "from tensorflow import keras\n",
    "from util import adjust_probs"
   ]
  },
  {
   "cell_type": "code",
   "execution_count": 2,
   "metadata": {},
   "outputs": [],
   "source": [
    "#load models\n",
    "gbt = pickle.load(open(f'models/GBT.sav', 'rb'))\n",
    "svm = pickle.load(open(f'models/SVM.sav', 'rb'))\n",
    "ann = keras.models.load_model(f'models/ANN')"
   ]
  },
  {
   "cell_type": "code",
   "execution_count": 3,
   "metadata": {},
   "outputs": [],
   "source": [
    "#define input variable values\n",
    "MUCAPE = 3000.0 #Description:Most Unstable Parcel CAPE Units: J/kg\n",
    "MUCIN = -50.0 #Description:Most Unstable Parcel CIN Units: J/kg\n",
    "MULCL = 1500.0 #Description:Most Unstable Parcel LCL Units: m\n",
    "LLCAPE = 200.0 #Description:Most Unstable Parcel CAPE in the 3km above the LFC Units: J/kg\n",
    "sfc1BWD = 7.5 #Description:0-1km Bulk Wind Difference Units: m/s\n",
    "EBWD = 15.0 #Description:Effective Bulk Wind Difference Units: m/s\n",
    "ESRH = 100.0 #Description:Effective Storm Relative Helicity Units: m2/s2\n",
    "ELSRW = 25.0 #Description:Storm Relative Wind at the Equlibrium Level Units: m/s\n",
    "ESRW = 15.0 #Description:Storm Relative Wind in the Effective Inflow Layer Units: m/s\n",
    "\n",
    "input_variables = np.asarray([MUCAPE, MUCIN, MULCL, LLCAPE, sfc1BWD, EBWD, ESRH, ELSRW, ESRW]).reshape(1,-1)"
   ]
  },
  {
   "cell_type": "code",
   "execution_count": 4,
   "metadata": {},
   "outputs": [],
   "source": [
    "#scale inputs for ann and svm\n",
    "scaler = pickle.load(open(f'models/scaler.sav', 'rb'))\n",
    "input_variables_scaled=scaler.transform(input_variables)"
   ]
  },
  {
   "cell_type": "code",
   "execution_count": 5,
   "metadata": {},
   "outputs": [],
   "source": [
    "#make predictions\n",
    "gbt_prediction = gbt.predict_proba(input_variables)[:,-1][0]\n",
    "svm_prediction = svm.predict_proba(input_variables_scaled)[:,-1][0]\n",
    "ann_prediction = ann.predict(input_variables_scaled)[0][0]\n",
    "avg_prediction = (gbt_prediction+svm_prediction+ann_prediction)/3.0 #model average"
   ]
  },
  {
   "cell_type": "code",
   "execution_count": 6,
   "metadata": {},
   "outputs": [
    {
     "name": "stdout",
     "output_type": "stream",
     "text": [
      "Gradient Boosted Tree Ensemble Prediction: 98.8 %\n",
      "Support Vector Machine Prediction: 85.1 %\n",
      "Artificial Neural Network Prediction: 84.4 %\n",
      "Average Prediction of the Three Machine Learning Models: 89.4 %\n"
     ]
    }
   ],
   "source": [
    "#display predictions\n",
    "#conditional probability of supercell\n",
    "print('Gradient Boosted Tree Ensemble Prediction:',round(100*gbt_prediction,1),'%')\n",
    "print('Support Vector Machine Prediction:',round(100*svm_prediction,1),'%')\n",
    "print('Artificial Neural Network Prediction:',round(100*ann_prediction,1),'%')\n",
    "print('Average Prediction of the Three Machine Learning Models:',round(100*avg_prediction,1),'%')"
   ]
  },
  {
   "cell_type": "markdown",
   "metadata": {},
   "source": [
    "<b> Adjusting Probabilities: </b>\n",
    "Due to the fact that the machine learning models are trained on a dataset comprised on a higher ratio of supercells than would be expected climatologically. The machine learning probabilities can be adjusted to account for this as described in our paper using the code shown below."
   ]
  },
  {
   "cell_type": "code",
   "execution_count": 7,
   "metadata": {},
   "outputs": [],
   "source": [
    "#estimated prevalence of supercells climatologically. In our study we assume 25% or 0.25\n",
    "sup_climo = 0.25\n",
    "\n",
    "#adjust probabilities\n",
    "gbt_prediction_adjusted = adjust_probs(gbt_prediction, sup_climo, 0.77)\n",
    "svm_prediction_adjusted = adjust_probs(svm_prediction, sup_climo, 0.50)\n",
    "ann_prediction_adjusted = adjust_probs(ann_prediction, sup_climo, 0.77)\n",
    "avg_prediction_adjusted = round((gbt_prediction_adjusted + svm_prediction_adjusted + ann_prediction_adjusted)/3.0,1) #model average"
   ]
  },
  {
   "cell_type": "code",
   "execution_count": 8,
   "metadata": {},
   "outputs": [
    {
     "name": "stdout",
     "output_type": "stream",
     "text": [
      "Gradient Boosted Tree Ensemble Prediction: 89.4 %\n",
      "Support Vector Machine Prediction: 65.6 %\n",
      "Artificial Neural Network Prediction: 34.9 %\n",
      "Average Prediction of the Three Machine Learning Models: 60.0 %\n"
     ]
    }
   ],
   "source": [
    "#display predictions\n",
    "#conditional probability of supercell\n",
    "print('Gradient Boosted Tree Ensemble Prediction:',round(100*gbt_prediction_adjusted,1),'%')\n",
    "print('Support Vector Machine Prediction:',round(100*svm_prediction_adjusted,1),'%')\n",
    "print('Artificial Neural Network Prediction:',round(100*ann_prediction_adjusted,1),'%')\n",
    "print('Average Prediction of the Three Machine Learning Models:',round(100*avg_prediction_adjusted,1),'%')"
   ]
  }
 ],
 "metadata": {
  "kernelspec": {
   "display_name": "Python 3",
   "language": "python",
   "name": "python3"
  },
  "language_info": {
   "codemirror_mode": {
    "name": "ipython",
    "version": 3
   },
   "file_extension": ".py",
   "mimetype": "text/x-python",
   "name": "python",
   "nbconvert_exporter": "python",
   "pygments_lexer": "ipython3",
   "version": "3.7.4"
  }
 },
 "nbformat": 4,
 "nbformat_minor": 4
}
